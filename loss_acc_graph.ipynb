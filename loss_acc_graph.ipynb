{
 "cells": [
  {
   "cell_type": "code",
   "execution_count": 1,
   "metadata": {},
   "outputs": [
    {
     "ename": "ModuleNotFoundError",
     "evalue": "No module named 'pandas'",
     "output_type": "error",
     "traceback": [
      "\u001b[1;31m---------------------------------------------------------------------------\u001b[0m",
      "\u001b[1;31mModuleNotFoundError\u001b[0m                       Traceback (most recent call last)",
      "\u001b[1;32mc:\\Users\\ERIC ECHEMANE\\Desktop\\Projects\\Soil Classification Training\\loss_acc_graph.ipynb Cell 1'\u001b[0m in \u001b[0;36m<cell line: 1>\u001b[1;34m()\u001b[0m\n\u001b[1;32m----> <a href='vscode-notebook-cell:/c%3A/Users/ERIC%20ECHEMANE/Desktop/Projects/Soil%20Classification%20Training/loss_acc_graph.ipynb#ch0000000?line=0'>1</a>\u001b[0m \u001b[39mimport\u001b[39;00m \u001b[39mpandas\u001b[39;00m \u001b[39mas\u001b[39;00m \u001b[39mpd\u001b[39;00m\n\u001b[0;32m      <a href='vscode-notebook-cell:/c%3A/Users/ERIC%20ECHEMANE/Desktop/Projects/Soil%20Classification%20Training/loss_acc_graph.ipynb#ch0000000?line=2'>3</a>\u001b[0m results \u001b[39m=\u001b[39m pd\u001b[39m.\u001b[39mDataFrame({\n\u001b[0;32m      <a href='vscode-notebook-cell:/c%3A/Users/ERIC%20ECHEMANE/Desktop/Projects/Soil%20Classification%20Training/loss_acc_graph.ipynb#ch0000000?line=3'>4</a>\u001b[0m     \u001b[39m'\u001b[39m\u001b[39mloss\u001b[39m\u001b[39m'\u001b[39m:[\u001b[39m1.503\u001b[39m, \u001b[39m1.1517\u001b[39m],\n\u001b[0;32m      <a href='vscode-notebook-cell:/c%3A/Users/ERIC%20ECHEMANE/Desktop/Projects/Soil%20Classification%20Training/loss_acc_graph.ipynb#ch0000000?line=4'>5</a>\u001b[0m     \u001b[39m'\u001b[39m\u001b[39maccuracy\u001b[39m\u001b[39m'\u001b[39m:[],\n\u001b[0;32m      <a href='vscode-notebook-cell:/c%3A/Users/ERIC%20ECHEMANE/Desktop/Projects/Soil%20Classification%20Training/loss_acc_graph.ipynb#ch0000000?line=5'>6</a>\u001b[0m })\n",
      "\u001b[1;31mModuleNotFoundError\u001b[0m: No module named 'pandas'"
     ]
    }
   ],
   "source": [
    "import pandas as pd\n",
    "\n",
    "results = pd.DataFrame({\n",
    "    'loss':[1.503, 1.1517],\n",
    "    'accuracy':[],\n",
    "})"
   ]
  }
 ],
 "metadata": {
  "kernelspec": {
   "display_name": "Python 3.10.2 ('env': venv)",
   "language": "python",
   "name": "python3"
  },
  "language_info": {
   "codemirror_mode": {
    "name": "ipython",
    "version": 3
   },
   "file_extension": ".py",
   "mimetype": "text/x-python",
   "name": "python",
   "nbconvert_exporter": "python",
   "pygments_lexer": "ipython3",
   "version": "3.10.2"
  },
  "orig_nbformat": 4,
  "vscode": {
   "interpreter": {
    "hash": "c8ed5e524265feec50e641761a7ab911929c0fba580a93da0556dc33c97d418c"
   }
  }
 },
 "nbformat": 4,
 "nbformat_minor": 2
}
